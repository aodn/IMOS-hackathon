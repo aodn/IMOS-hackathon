{
 "cells": [
  {
   "cell_type": "markdown",
   "id": "c2b6e3f8-4564-478b-8ec1-363a4a3b8495",
   "metadata": {},
   "source": [
    "### MLD Depth GUI output analysis. \n",
    "#### This notebook loads the output from the MLD GUI runs and then analyses the output statistically against other automated methods of estimating MLD depth."
   ]
  },
  {
   "cell_type": "markdown",
   "id": "6a1894e0-f76d-4df3-91a9-cf19eea855ba",
   "metadata": {},
   "source": [
    "The output that we generate from the MLD GUI is a csv file that looks like this: "
   ]
  },
  {
   "cell_type": "markdown",
   "id": "1cfde860-b3d1-4f4e-9510-34ce460d7903",
   "metadata": {},
   "source": [
    "![Alt text](Screenshot1.png)"
   ]
  },
  {
   "cell_type": "markdown",
   "id": "acdff9cb-bf6c-4382-b34b-c09e19cf8fae",
   "metadata": {},
   "source": [
    "I have added this file as a test file in the same directory. "
   ]
  },
  {
   "cell_type": "code",
   "execution_count": 5,
   "id": "c40aaf23-7bb2-46eb-9c13-1f43ddc9fc2d",
   "metadata": {},
   "outputs": [],
   "source": [
    "import pandas as pd\n"
   ]
  },
  {
   "cell_type": "code",
   "execution_count": 20,
   "id": "4ddf0fa8-2c00-49cb-a1f3-91a927f726a7",
   "metadata": {},
   "outputs": [],
   "source": [
    "# Load the CSV file into a DataFrame\n",
    "df = pd.read_csv('C:\\\\Users\\\\nribeiro\\\\OneDrive - University of Tasmania\\\\Documents\\\\GitHub\\\\IMOS-hackathon\\\\2024\\\\Projects\\\\MLD-GUI\\\\Data\\\\mld-recorded_test.csv')"
   ]
  },
  {
   "cell_type": "code",
   "execution_count": 21,
   "id": "deca83e3-bf3b-4943-a3d2-f073bd90f3b7",
   "metadata": {},
   "outputs": [
    {
     "data": {
      "text/html": [
       "<div>\n",
       "<style scoped>\n",
       "    .dataframe tbody tr th:only-of-type {\n",
       "        vertical-align: middle;\n",
       "    }\n",
       "\n",
       "    .dataframe tbody tr th {\n",
       "        vertical-align: top;\n",
       "    }\n",
       "\n",
       "    .dataframe thead th {\n",
       "        text-align: right;\n",
       "    }\n",
       "</style>\n",
       "<table border=\"1\" class=\"dataframe\">\n",
       "  <thead>\n",
       "    <tr style=\"text-align: right;\">\n",
       "      <th></th>\n",
       "      <th>Profile n</th>\n",
       "      <th>Date</th>\n",
       "      <th>Time (UTC)</th>\n",
       "      <th>Austral Season</th>\n",
       "      <th>MLD recorded [m]</th>\n",
       "    </tr>\n",
       "  </thead>\n",
       "  <tbody>\n",
       "    <tr>\n",
       "      <th>0</th>\n",
       "      <td>1</td>\n",
       "      <td>20/01/2014</td>\n",
       "      <td>22:26</td>\n",
       "      <td>Summer</td>\n",
       "      <td>9</td>\n",
       "    </tr>\n",
       "    <tr>\n",
       "      <th>1</th>\n",
       "      <td>2</td>\n",
       "      <td>28/02/2011</td>\n",
       "      <td>22:21</td>\n",
       "      <td>Summer</td>\n",
       "      <td>18</td>\n",
       "    </tr>\n",
       "    <tr>\n",
       "      <th>2</th>\n",
       "      <td>3</td>\n",
       "      <td>27/02/2018</td>\n",
       "      <td>23:28</td>\n",
       "      <td>Summer</td>\n",
       "      <td>30</td>\n",
       "    </tr>\n",
       "    <tr>\n",
       "      <th>3</th>\n",
       "      <td>4</td>\n",
       "      <td>14/03/2023</td>\n",
       "      <td>20:53</td>\n",
       "      <td>Autumn</td>\n",
       "      <td>16</td>\n",
       "    </tr>\n",
       "    <tr>\n",
       "      <th>4</th>\n",
       "      <td>5</td>\n",
       "      <td>21/01/2019</td>\n",
       "      <td>22:02</td>\n",
       "      <td>Summer</td>\n",
       "      <td>8</td>\n",
       "    </tr>\n",
       "    <tr>\n",
       "      <th>5</th>\n",
       "      <td>6</td>\n",
       "      <td>28/06/2022</td>\n",
       "      <td>23:24</td>\n",
       "      <td>Winter</td>\n",
       "      <td>50</td>\n",
       "    </tr>\n",
       "    <tr>\n",
       "      <th>6</th>\n",
       "      <td>7</td>\n",
       "      <td>27/02/2018</td>\n",
       "      <td>23:28</td>\n",
       "      <td>Summer</td>\n",
       "      <td>29</td>\n",
       "    </tr>\n",
       "    <tr>\n",
       "      <th>7</th>\n",
       "      <td>8</td>\n",
       "      <td>12/06/2014</td>\n",
       "      <td>23:42</td>\n",
       "      <td>Winter</td>\n",
       "      <td>31</td>\n",
       "    </tr>\n",
       "    <tr>\n",
       "      <th>8</th>\n",
       "      <td>9</td>\n",
       "      <td>19/08/2015</td>\n",
       "      <td>0:11</td>\n",
       "      <td>Winter</td>\n",
       "      <td>34</td>\n",
       "    </tr>\n",
       "    <tr>\n",
       "      <th>9</th>\n",
       "      <td>10</td>\n",
       "      <td>26/09/2016</td>\n",
       "      <td>12:15</td>\n",
       "      <td>Spring</td>\n",
       "      <td>20</td>\n",
       "    </tr>\n",
       "  </tbody>\n",
       "</table>\n",
       "</div>"
      ],
      "text/plain": [
       "   Profile n        Date Time (UTC) Austral Season  MLD recorded [m]\n",
       "0          1  20/01/2014      22:26         Summer                 9\n",
       "1          2  28/02/2011      22:21         Summer                18\n",
       "2          3  27/02/2018      23:28         Summer                30\n",
       "3          4  14/03/2023      20:53         Autumn                16\n",
       "4          5  21/01/2019      22:02         Summer                 8\n",
       "5          6  28/06/2022      23:24         Winter                50\n",
       "6          7  27/02/2018      23:28         Summer                29\n",
       "7          8  12/06/2014      23:42         Winter                31\n",
       "8          9  19/08/2015       0:11         Winter                34\n",
       "9         10  26/09/2016      12:15         Spring                20"
      ]
     },
     "execution_count": 21,
     "metadata": {},
     "output_type": "execute_result"
    }
   ],
   "source": [
    "df"
   ]
  },
  {
   "cell_type": "markdown",
   "id": "0947de7c-071b-475e-bbf9-20fee24aed5f",
   "metadata": {},
   "source": [
    "### 1. Calculate a few useful statistic measurements, such as mean, median, std. "
   ]
  },
  {
   "cell_type": "code",
   "execution_count": 26,
   "id": "c42c9dc7-78f6-4e7b-87a9-32fbf2c90dd9",
   "metadata": {},
   "outputs": [
    {
     "name": "stdout",
     "output_type": "stream",
     "text": [
      "Mean: 24.5\n",
      "Median: 24.5\n",
      "Standard Deviation: 12.82575533838066\n"
     ]
    }
   ],
   "source": [
    "# Calculate the MLD depth mean \n",
    "mean_value = df.iloc[:, 4].mean()  \n",
    "\n",
    "# Calculate the MLD depth median\n",
    "median_value = df.iloc[:, 4].median()\n",
    "\n",
    "# Calculate the MLD depth standard deviation\n",
    "std_value = df.iloc[:, 4].std()\n",
    "\n",
    "# Print the results\n",
    "print(\"Mean:\", mean_value)\n",
    "print(\"Median:\", median_value)\n",
    "print(\"Standard Deviation:\", std_value)"
   ]
  },
  {
   "cell_type": "markdown",
   "id": "75ece97f-bcde-441f-adb6-e539b6caefec",
   "metadata": {},
   "source": [
    "#### 2. Select the different seasons and separate stats for those depths."
   ]
  },
  {
   "cell_type": "code",
   "execution_count": 27,
   "id": "bcd3e63d-c9a1-494c-ac38-f8765d50a0ed",
   "metadata": {},
   "outputs": [],
   "source": [
    "# Group the DataFrame by season and calculate mean, median, and std for Depth\n",
    "season_stats = df.groupby('Austral Season')['MLD recorded [m]'].agg(['mean', 'median', 'std']).reset_index()\n"
   ]
  },
  {
   "cell_type": "code",
   "execution_count": 28,
   "id": "cfcbf618-5ba8-4d46-b22d-3335a734e83b",
   "metadata": {},
   "outputs": [
    {
     "data": {
      "text/html": [
       "<div>\n",
       "<style scoped>\n",
       "    .dataframe tbody tr th:only-of-type {\n",
       "        vertical-align: middle;\n",
       "    }\n",
       "\n",
       "    .dataframe tbody tr th {\n",
       "        vertical-align: top;\n",
       "    }\n",
       "\n",
       "    .dataframe thead th {\n",
       "        text-align: right;\n",
       "    }\n",
       "</style>\n",
       "<table border=\"1\" class=\"dataframe\">\n",
       "  <thead>\n",
       "    <tr style=\"text-align: right;\">\n",
       "      <th></th>\n",
       "      <th>Austral Season</th>\n",
       "      <th>mean</th>\n",
       "      <th>median</th>\n",
       "      <th>std</th>\n",
       "    </tr>\n",
       "  </thead>\n",
       "  <tbody>\n",
       "    <tr>\n",
       "      <th>0</th>\n",
       "      <td>Autumn</td>\n",
       "      <td>16.000000</td>\n",
       "      <td>16.0</td>\n",
       "      <td>NaN</td>\n",
       "    </tr>\n",
       "    <tr>\n",
       "      <th>1</th>\n",
       "      <td>Spring</td>\n",
       "      <td>20.000000</td>\n",
       "      <td>20.0</td>\n",
       "      <td>NaN</td>\n",
       "    </tr>\n",
       "    <tr>\n",
       "      <th>2</th>\n",
       "      <td>Summer</td>\n",
       "      <td>18.800000</td>\n",
       "      <td>18.0</td>\n",
       "      <td>10.521407</td>\n",
       "    </tr>\n",
       "    <tr>\n",
       "      <th>3</th>\n",
       "      <td>Winter</td>\n",
       "      <td>38.333333</td>\n",
       "      <td>34.0</td>\n",
       "      <td>10.214369</td>\n",
       "    </tr>\n",
       "  </tbody>\n",
       "</table>\n",
       "</div>"
      ],
      "text/plain": [
       "  Austral Season       mean  median        std\n",
       "0         Autumn  16.000000    16.0        NaN\n",
       "1         Spring  20.000000    20.0        NaN\n",
       "2         Summer  18.800000    18.0  10.521407\n",
       "3         Winter  38.333333    34.0  10.214369"
      ]
     },
     "execution_count": 28,
     "metadata": {},
     "output_type": "execute_result"
    }
   ],
   "source": [
    "season_stats\n"
   ]
  },
  {
   "cell_type": "markdown",
   "id": "26bd35ba-0d27-4583-9c0b-f7fcd92ed0a0",
   "metadata": {},
   "source": [
    "## THE FUTURE\n",
    "\n",
    "### Comparing the outputs from the manual selection of MLD depth using our GUI to different automated methods.\n",
    "\n",
    "##### Here we will need some work done, as we need to find a way for the same profiles that were selected at random to be loaded. \n",
    "##### - We are thinking maybe the timestamp or even altering the GUI to record an index for them.\n",
    "##### - Other options would be to just slice the moorings data into collections and then run entire collections for testing."
   ]
  },
  {
   "cell_type": "markdown",
   "id": "f936ae07-cdab-403d-9863-bfa84aec4863",
   "metadata": {},
   "source": [
    "#### Ultimate plan: send to people as if it were a game, so we can build a good size randomic dataset to use for the purpose of comparison with automated methods. "
   ]
  },
  {
   "cell_type": "code",
   "execution_count": null,
   "id": "5a2018c2-b713-43d1-8495-1b6361badf5d",
   "metadata": {},
   "outputs": [],
   "source": []
  }
 ],
 "metadata": {
  "kernelspec": {
   "display_name": "Python 3 (ipykernel)",
   "language": "python",
   "name": "python3"
  },
  "language_info": {
   "codemirror_mode": {
    "name": "ipython",
    "version": 3
   },
   "file_extension": ".py",
   "mimetype": "text/x-python",
   "name": "python",
   "nbconvert_exporter": "python",
   "pygments_lexer": "ipython3",
   "version": "3.9.12"
  }
 },
 "nbformat": 4,
 "nbformat_minor": 5
}
