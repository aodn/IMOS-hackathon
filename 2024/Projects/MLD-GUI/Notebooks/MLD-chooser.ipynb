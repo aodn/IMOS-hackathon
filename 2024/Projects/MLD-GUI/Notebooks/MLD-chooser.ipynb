{
 "cells": [
  {
   "cell_type": "markdown",
   "metadata": {},
   "source": [
    "# Notebook version of MLD-chooser"
   ]
  },
  {
   "cell_type": "markdown",
   "metadata": {},
   "source": [
    "Change to working directory"
   ]
  },
  {
   "cell_type": "code",
   "execution_count": 21,
   "metadata": {},
   "outputs": [],
   "source": [
    "import os\n",
    "#working_dir = 'C:\\\\this\\\\is\\\\your\\\\directory\\\\' #this is the syntax if you have a windows computer\n",
    "working_dir = 'C:\\\\Users\\\\nribeiro\\\\OneDrive - University of Tasmania\\\\Documents\\\\GitHub\\\\IMOS-hackathon\\\\2024\\\\Projects\\\\MLD-GUI'\n",
    "os.chdir(working_dir)"
   ]
  },
  {
   "cell_type": "markdown",
   "metadata": {},
   "source": [
    "Setup CSV saving directory"
   ]
  },
  {
   "cell_type": "code",
   "execution_count": 22,
   "metadata": {},
   "outputs": [],
   "source": [
    "#saving_dir = 'C:\\\\this\\\\is\\\\your\\\\directory\\\\'; # make sure to end with '\\\\'\n",
    "saving_dir = 'C:\\\\Users\\\\nribeiro\\\\OneDrive - University of Tasmania\\\\IMOS Shared Docs\\\\KSA324\\\\2024\\\\Data\\\\';"
   ]
  },
  {
   "cell_type": "raw",
   "metadata": {},
   "source": [
    "Uncomment and run the cell below if you have issues importing modules and packages on the cell that follows. "
   ]
  },
  {
   "cell_type": "code",
   "execution_count": 23,
   "metadata": {},
   "outputs": [],
   "source": [
    "#pip install gsw"
   ]
  },
  {
   "cell_type": "markdown",
   "metadata": {},
   "source": [
    "Import python packages"
   ]
  },
  {
   "cell_type": "code",
   "execution_count": 9,
   "metadata": {},
   "outputs": [],
   "source": [
    "import tkinter as tk\n",
    "import matplotlib.pyplot as plt\n",
    "from matplotlib.backends.backend_tkagg import FigureCanvasTkAgg\n",
    "import PickleStuff as ps # functions to save/load pickle files; This is a .py function. So make sure you have it on your working directory or else you will have to point to it. \n",
    "import numpy as np\n",
    "import pandas as pd\n",
    "from datetime import datetime\n",
    "import gsw"
   ]
  },
  {
   "cell_type": "markdown",
   "metadata": {},
   "source": [
    "Function to get the season from the timestamps"
   ]
  },
  {
   "cell_type": "code",
   "execution_count": 10,
   "metadata": {},
   "outputs": [],
   "source": [
    "def get_season(date):\n",
    "    # Convert datetime64 to string with format 'YYYY-MM'\n",
    "    date_str = np.datetime_as_string(date, unit='M')\n",
    "    # Extract month from the string\n",
    "    month = int(date_str.split('-')[1])\n",
    "    if month in [3, 4, 5]:\n",
    "        return 'Autumn'\n",
    "    elif month in [6, 7, 8]:\n",
    "        return 'Winter'\n",
    "    elif month in [9, 10, 11]:\n",
    "        return 'Spring'\n",
    "    else:\n",
    "        return 'Summer'"
   ]
  },
  {
   "cell_type": "code",
   "execution_count": 20,
   "metadata": {},
   "outputs": [
    {
     "data": {
      "text/plain": [
       "'C:\\\\Users\\\\nribeiro\\\\OneDrive - University of Tasmania\\\\IMOS Shared Docs\\\\KSA324\\\\2024\\\\Data'"
      ]
     },
     "execution_count": 20,
     "metadata": {},
     "output_type": "execute_result"
    }
   ],
   "source": [
    "pwd\n"
   ]
  },
  {
   "cell_type": "markdown",
   "metadata": {},
   "source": [
    "Load the temperature and salinity data at PH100"
   ]
  },
  {
   "cell_type": "code",
   "execution_count": 25,
   "metadata": {},
   "outputs": [
    {
     "name": "stdout",
     "output_type": "stream",
     "text": [
      "Loading pickled data\n",
      "Loading pickled data\n"
     ]
    }
   ],
   "source": [
    "# Load data and setup for GUI\n",
    "PSAL = ps.PickleLoad('Data\\PH100CTD_PSAL.pickle')\n",
    "TEMP = ps.PickleLoad('Data\\PH100CTD_TEMP.pickle')\n",
    "\n",
    "# Select n number of random profiles to inspect\n",
    "nprofs = 5\n",
    "site = 'PH100'\n",
    "# get unique dates of CTD profiles (assuming each profile has PSAL and TEMP available)\n",
    "unique_dates = np.unique(PSAL[site]['PSAL'].TIME.values)"
   ]
  },
  {
   "cell_type": "markdown",
   "metadata": {},
   "source": [
    "function to get profile data for the randomly selected CTD profiles\n",
    "\n",
    "Calculates density profile using TEMP and PSAL"
   ]
  },
  {
   "cell_type": "code",
   "execution_count": 26,
   "metadata": {},
   "outputs": [],
   "source": [
    "def getProfiles(unique_dates, nprofs, site, PSAL, TEMP):\n",
    "    # get random indices with length nprofs\n",
    "    random_selection = np.random.choice(unique_dates, size=nprofs)\n",
    "    # create lists to fill\n",
    "    temperature_profiles = []\n",
    "    salinity_profiles = []\n",
    "    density_profiles = []\n",
    "    dates = []\n",
    "    times = []\n",
    "    seasons = []\n",
    "    # lon and lat\n",
    "    lon = TEMP[site]['TEMP'].LONGITUDE.median()\n",
    "    lat = TEMP[site]['TEMP'].LATITUDE.median()\n",
    "\n",
    "    for n in range(len(random_selection)):\n",
    "        c = PSAL[site]['PSAL'].TIME.values == random_selection[n]\n",
    "        \n",
    "        # Combine arrays into tuples\n",
    "        TEMP_tuple = (TEMP[site]['TEMP'].DEPTH.values[c], TEMP[site]['TEMP'].values[c])\n",
    "        PSAL_tuple = (PSAL[site]['PSAL'].DEPTH.values[c], PSAL[site]['PSAL'].values[c])\n",
    "    \n",
    "        # QC the temperature and salinity data set\n",
    "        TEMP_QC = TEMP[site]['TEMP_quality_control'].values[c];\n",
    "        TEMP_tuple[1][TEMP_QC != 1] = np.nan\n",
    "        PSAL_QC = PSAL[site]['PSAL_quality_control'].values[c];\n",
    "        PSAL_tuple[1][PSAL_QC != 1] = np.nan\n",
    "    \n",
    "        # add TEMP and PSAL to lists\n",
    "        temperature_profiles.append(TEMP_tuple)\n",
    "        salinity_profiles.append(PSAL_tuple)\n",
    "        \n",
    "        # calculate in situ density using TEMP and PSAL\n",
    "        lon_arr = np.ones(len(salinity_profiles[n][1]))*lon.values\n",
    "        lat_arr = np.ones(len(salinity_profiles[n][1]))*lat.values\n",
    "        SA = gsw.SA_from_SP(salinity_profiles[n][1],\n",
    "                              salinity_profiles[n][0],\n",
    "                              lon_arr,lat_arr)\n",
    "        CT = gsw.CT_from_t(SA,temperature_profiles[n][1],temperature_profiles[n][0])\n",
    "        rho = gsw.rho(SA,CT,temperature_profiles[n][0])\n",
    "        \n",
    "        # add DENS to list\n",
    "        DENS_tuple = (temperature_profiles[n][0],rho)\n",
    "        density_profiles.append(DENS_tuple)\n",
    "        \n",
    "        # extract date and time for plot\n",
    "        \n",
    "        # Given numpy.datetime64 object\n",
    "        datetime_obj = random_selection[n]\n",
    "        # Convert to Python datetime object\n",
    "        python_datetime_obj = datetime.utcfromtimestamp(datetime_obj.astype('O') / 1e9)\n",
    "        # Extract date and time components\n",
    "        date_component = python_datetime_obj.date()\n",
    "        time_component = python_datetime_obj.time()\n",
    "        # save dates, times, seasons\n",
    "        dates.append(str(date_component))\n",
    "        times.append(str(time_component)[0:5])\n",
    "        seasons.append(get_season(random_selection[n]))\n",
    "        \n",
    "    return temperature_profiles, salinity_profiles, density_profiles, dates, times, seasons"
   ]
  },
  {
   "cell_type": "markdown",
   "metadata": {},
   "source": [
    "Run the function above to get the CTD profile data"
   ]
  },
  {
   "cell_type": "code",
   "execution_count": 27,
   "metadata": {},
   "outputs": [],
   "source": [
    "temperature_profiles, salinity_profiles, density_profiles, dates, times, seasons = getProfiles(\n",
    "                                                                    unique_dates, nprofs, site, PSAL, TEMP)"
   ]
  },
  {
   "cell_type": "markdown",
   "metadata": {},
   "source": [
    "Run the GUI to choose MLD from selected profiles"
   ]
  },
  {
   "cell_type": "code",
   "execution_count": 28,
   "metadata": {},
   "outputs": [
    {
     "name": "stdout",
     "output_type": "stream",
     "text": [
      "MLD Recorded Depths: [26.868136390777465, 21.770906597695557, 7.564936759441906, 74.0875538450227, 13.690045157023292]\n"
     ]
    }
   ],
   "source": [
    "# GUI to display profiles for MLD selection\n",
    "\n",
    "%matplotlib qt\n",
    "\n",
    "class OceanProfileGUI:\n",
    "    def __init__(self, root, temperature_profiles, salinity_profiles, density_profiles, dates, times, seasons, site,\n",
    "                 tmin=10, tmax=27, smin=33, smax=36, dmin=1022, dmax=1027):\n",
    "        self.root = root\n",
    "        self.root.title(\"Ocean Profile Analysis\")\n",
    "\n",
    "        self.tmin = tmin\n",
    "        self.tmax = tmax\n",
    "        self.smin = smin\n",
    "        self.smax = smax\n",
    "        self.dmin = dmin\n",
    "        self.dmax = dmax\n",
    "        self.site = site\n",
    "        self.dates = dates\n",
    "        self.times = times\n",
    "        self.seasons = seasons\n",
    "        self.temperature_profiles = temperature_profiles\n",
    "        self.salinity_profiles = salinity_profiles\n",
    "        self.density_profiles = density_profiles\n",
    "        self.num_profiles = len(temperature_profiles)\n",
    "        self.current_profile_index = 0  # Index of the currently displayed profile\n",
    "\n",
    "        # Create a figure with one subplot\n",
    "        self.fig, self.plot_area = plt.subplots(figsize=(8, 6))\n",
    "\n",
    "        self.update_profiles()  # Initial plot update\n",
    "\n",
    "        self.canvas_widget = FigureCanvasTkAgg(self.fig, master=root)\n",
    "        self.canvas_widget.get_tk_widget().pack(side=tk.LEFT, fill=tk.BOTH, expand=True)  # Fill window and expand to fit\n",
    "\n",
    "        self.selected_depth = None\n",
    "        self.recorded_depths = []  # List to store recorded depths\n",
    "\n",
    "        # Create a side box to display profile index and depth\n",
    "        self.side_box = tk.Text(root, height=10, width=20)\n",
    "        self.side_box.pack(side=tk.RIGHT)\n",
    "\n",
    "        # Connect event handlers\n",
    "        self.canvas_widget.mpl_connect('motion_notify_event', self.on_hover_profile)\n",
    "        self.canvas_widget.mpl_connect('button_press_event', self.on_click_profile)\n",
    "\n",
    "        self.update_side_box()  # Update the side box with current profile index\n",
    "\n",
    "        self.next_button = tk.Button(root, text=\"Next\", command=self.load_next_profile)\n",
    "        self.next_button.pack()\n",
    "\n",
    "        # Store the reference to the red dashed line\n",
    "        self.red_lines = []\n",
    "\n",
    "    def update_profiles(self):\n",
    "        self.plot_area.clear()\n",
    "\n",
    "        # Plot temperature data\n",
    "        depth, temperature = self.temperature_profiles[self.current_profile_index]\n",
    "        temperature_plot = self.plot_area.plot(temperature, depth, label='Temperature (°C)')\n",
    "        self.plot_area.set_xlabel(\"Temperature (°C)\")\n",
    "        self.plot_area.set_ylabel(\"Depth (m)\")\n",
    "        \n",
    "        # Invert the y-axis\n",
    "        self.plot_area.invert_yaxis()\n",
    "        \n",
    "        # Add annotation\n",
    "        annotation_text = (self.site + ' ' + self.dates[self.current_profile_index] + ' ' \n",
    "                           + self.times[self.current_profile_index] + ' (' \n",
    "                           + self.seasons[self.current_profile_index] + ')')# Annotation text\n",
    "        annotation_x = 0.5  # X-coordinate of annotation\n",
    "        annotation_y = -0.13  # Y-coordinate of annotation \n",
    "        \n",
    "        # Annotate the plot\n",
    "        self.plot_area.text(annotation_x, annotation_y, annotation_text,\n",
    "                            horizontalalignment='center',\n",
    "                            verticalalignment='bottom',\n",
    "                            fontsize=12,\n",
    "                            transform=self.plot_area.transAxes)\n",
    "        \n",
    "\n",
    "        # Plot salinity data on secondary y-axis\n",
    "        depth, salinity = self.salinity_profiles[self.current_profile_index]\n",
    "        salinity_axis = self.plot_area.twiny()\n",
    "        salinity_axis.plot(salinity, depth, label='Salinity', color=(217/255,95/255,2/255))\n",
    "        salinity_axis.set_xlabel(\"Salinity\", color=(217/255,95/255,2/255))\n",
    "        salinity_axis.set_xlim(self.smin, self.smax) \n",
    "        \n",
    "        # Plot density data on secondary y-axis, slightly higher than salinity axis\n",
    "        depth, density = self.density_profiles[self.current_profile_index]\n",
    "        density_axis = self.plot_area.twiny()\n",
    "        density_axis.plot(density, depth, label='Density', color=(117/255,112/255,179/255))\n",
    "        density_axis.set_xlabel(\"Density [kg m-3]\", color=(117/255,112/255,179/255))\n",
    "        density_axis.spines['top'].set_position(('outward', 40))  # Adjust the position of the density axis\n",
    "        density_axis.set_xlim(self.dmin, self.dmax) \n",
    "        \n",
    "        # Set temperature x-axis label color to match temperature plot\n",
    "        temperature_xaxis = self.plot_area.xaxis\n",
    "        temperature_xaxis.label.set_color(temperature_plot[0].get_color())\n",
    "        temperature_xaxis.set_view_interval(self.tmin, self.tmax)   \n",
    "\n",
    "        # Combine the legends\n",
    "        # self.plot_area.legend(loc='upper right')\n",
    "\n",
    "        self.plot_area.grid(True)  # Add grid lines\n",
    "\n",
    "    def load_next_profile(self):\n",
    "        # Record the last clicked depth if available before moving to the next profile\n",
    "        if self.selected_depth is not None:\n",
    "            self.recorded_depths.append(self.selected_depth)\n",
    "            \n",
    "        # Clear the current figure and plot area\n",
    "        self.fig.clear()\n",
    "        self.plot_area = self.fig.add_subplot(111)\n",
    "\n",
    "        # Load and plot the next profile if not all profiles have been displayed\n",
    "        if self.current_profile_index < self.num_profiles - 1:\n",
    "            self.current_profile_index += 1\n",
    "            self.update_profiles()  # Update plot with new data\n",
    "            self.update_side_box()  # Update the side box with current profile index\n",
    "            self.remove_red_lines()  # Remove previous red lines\n",
    "            self.canvas_widget.draw()\n",
    "        else:\n",
    "            # Close the GUI if all profiles have been displayed\n",
    "            self.root.quit()\n",
    "            self.root.destroy()\n",
    "\n",
    "    def on_hover_profile(self, event):\n",
    "        # Display depth in side box as you hover over the profile\n",
    "        if event.xdata is not None and event.ydata is not None:\n",
    "            depth = event.ydata\n",
    "            self.update_side_box(hover_depth=depth)  # Update the side box with current profile index and hover depth\n",
    "\n",
    "            # Draw red horizontal dashed line following cursor\n",
    "            if self.red_lines:\n",
    "                for red_line in self.red_lines:\n",
    "                    red_line.set_ydata(depth)\n",
    "            else:\n",
    "                red_line = self.plot_area.axhline(depth, color='r', linestyle='--')\n",
    "                self.red_lines.append(red_line)\n",
    "\n",
    "            self.canvas_widget.draw()\n",
    "\n",
    "    def on_click_profile(self, event):\n",
    "        # Record depth when clicking on profile\n",
    "        if event.xdata is not None and event.ydata is not None:\n",
    "            self.selected_depth = event.ydata\n",
    "            self.update_side_box()  # Update the side box with current profile index and MLD\n",
    "\n",
    "    def update_side_box(self, hover_depth=None):\n",
    "        # Update the side box with current profile index and depth\n",
    "        self.side_box.delete(1.0, tk.END)  # Clear previous content\n",
    "        self.side_box.insert(tk.END, f\"Profile: {self.current_profile_index + 1}/{self.num_profiles}\\n\")\n",
    "        if self.selected_depth is not None:\n",
    "            self.side_box.insert(tk.END, f\"MLD Depth: {self.selected_depth:.2f} m\\n\")\n",
    "        if hover_depth is not None:\n",
    "            self.side_box.insert(tk.END, f\"Depth: {hover_depth:.2f} m\\n\")\n",
    "\n",
    "    def remove_red_lines(self):\n",
    "        for red_line in self.red_lines:\n",
    "            red_line.remove()\n",
    "        self.red_lines.clear()\n",
    "\n",
    "\n",
    "# if __name__ == \"__main__\":\n",
    "    # this means that the code has to be run directly here, and cannot be loaded into another\n",
    "    # script as an imported function\n",
    "    \n",
    "# Assuming temperature_profiles, salinity_profiles, and density_profiles are the variables containing the loaded profiles\n",
    "\n",
    "# Create the GUI\n",
    "root = tk.Tk()\n",
    "gui = OceanProfileGUI(root, temperature_profiles, salinity_profiles, density_profiles, dates, times, seasons, site)\n",
    "root.mainloop()\n",
    "\n",
    "# Output recorded depths\n",
    "print(\"MLD Recorded Depths:\", gui.recorded_depths)"
   ]
  },
  {
   "cell_type": "code",
   "execution_count": 29,
   "metadata": {},
   "outputs": [],
   "source": [
    "# create dataframe and save output as a CSV\n",
    "df = pd.DataFrame({'Profile n': np.arange(1,nprofs+1,1), \n",
    "                   'Date': np.array(dates),\n",
    "                   'Time (UTC)': np.array(times),\n",
    "                   'Austral Season': np.array(seasons),\n",
    "                   'MLD recorded [m]': np.round(gui.recorded_depths,0)})\n",
    "# set index as profile n\n",
    "df.set_index('Profile n', inplace=True)\n",
    "\n",
    "# Get the current time\n",
    "current_time = datetime.now()\n",
    "# Format the current time\n",
    "formatted_time = current_time.strftime('%Y-%m-%d_%H-%M')\n",
    "\n",
    "df.to_csv(saving_dir + '/MLD-recorded_' + formatted_time + '.csv')"
   ]
  },
  {
   "cell_type": "code",
   "execution_count": null,
   "metadata": {},
   "outputs": [],
   "source": []
  }
 ],
 "metadata": {
  "kernelspec": {
   "display_name": "Python 3 (ipykernel)",
   "language": "python",
   "name": "python3"
  },
  "language_info": {
   "codemirror_mode": {
    "name": "ipython",
    "version": 3
   },
   "file_extension": ".py",
   "mimetype": "text/x-python",
   "name": "python",
   "nbconvert_exporter": "python",
   "pygments_lexer": "ipython3",
   "version": "3.9.12"
  }
 },
 "nbformat": 4,
 "nbformat_minor": 4
}
